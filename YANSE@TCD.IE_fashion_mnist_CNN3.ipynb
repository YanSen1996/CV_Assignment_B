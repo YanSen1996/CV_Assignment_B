{
 "cells": [
  {
   "cell_type": "code",
   "execution_count": 1,
   "metadata": {},
   "outputs": [],
   "source": [
    "from __future__ import print_function\n",
    "import torch\n",
    "import torch.nn as nn\n",
    "import torch.nn.functional as F\n",
    "import torch.optim as optim\n",
    "from torchvision import datasets, transforms\n",
    "import numpy as np\n",
    "import matplotlib.pyplot as plt"
   ]
  },
  {
   "cell_type": "code",
   "execution_count": 2,
   "metadata": {},
   "outputs": [],
   "source": [
    "# Training hyperparameters\n",
    "epochs = 1\n",
    "batch_size = 64\n",
    "learning_rate = 0.01 # DONE\n",
    "momentum = 0.9\n",
    "weight_decay = 1e-8 # DONE\n",
    "log_interval = 20"
   ]
  },
  {
   "cell_type": "markdown",
   "metadata": {},
   "source": [
    "### A function to calculate the mean and standard deviation\n",
    "Use _data file and a ratio between 0 to 1 as the inputs."
   ]
  },
  {
   "cell_type": "code",
   "execution_count": 3,
   "metadata": {},
   "outputs": [],
   "source": [
    "def get_mean_std(dataset, ratio):\n",
    "    \n",
    "    dataloader = torch.utils.data.DataLoader(dataset, batch_size=int(len(dataset)*ratio), \n",
    "                                             shuffle=True, num_workers=10)\n",
    "    train = iter(dataloader).next()[0]\n",
    "    mean = np.mean(train.numpy(), axis=(0,2,3))\n",
    "    std = np.std(train.numpy(), axis=(0,2,3))\n",
    "    return mean, std"
   ]
  },
  {
   "cell_type": "code",
   "execution_count": 4,
   "metadata": {},
   "outputs": [],
   "source": [
    "class CNN3(nn.Module):\n",
    "    def __init__(self):\n",
    "        super(CNN3, self).__init__()\n",
    "        self.conv1 = nn.Conv2d(in_channels=1, out_channels=48, \n",
    "                               kernel_size=5, stride=1, padding=2)\n",
    "        self.batch = nn.BatchNorm2d(48)\n",
    "        self.maxpool = nn.MaxPool2d(2)\n",
    "        self.drop = nn.Dropout2d(0.1)\n",
    "        self.conv2 = nn.Conv2d(in_channels=48, out_channels=64, \n",
    "                               kernel_size=5, stride=1, padding=2)\n",
    "        self.fc1 = nn.Linear(in_features=3136, out_features=256)\n",
    "        self.fc2 = nn.Linear(in_features=256, out_features=10)\n",
    "\n",
    "        nn.init.kaiming_normal_(self.conv1.weight, nonlinearity='relu')\n",
    "        nn.init.kaiming_normal_(self.conv2.weight, nonlinearity='relu')\n",
    "        nn.init.kaiming_normal_(self.fc1.weight, nonlinearity='relu')\n",
    "        nn.init.kaiming_normal_(self.fc2.weight, nonlinearity='linear')\n",
    "\n",
    "    def forward(self, x):\n",
    "        x = self.conv1(x)\n",
    "        x = self.batch(x)\n",
    "        x = F.relu(x)\n",
    "        x = self.maxpool(x)\n",
    "        x = self.drop(x)\n",
    "        x = self.conv2(x)\n",
    "        x = F.relu(x)\n",
    "        x = self.maxpool(x)\n",
    "        x = x.view(-1, 3136)\n",
    "        x = self.fc1(x)\n",
    "        x = F.relu(x)\n",
    "        x = self.fc2(x)\n",
    "        return F.log_softmax(x, dim=1)"
   ]
  },
  {
   "cell_type": "code",
   "execution_count": 5,
   "metadata": {},
   "outputs": [],
   "source": [
    "def plot_data(data, label, text):\n",
    "    fig = plt.figure()\n",
    "    for i in range(6):\n",
    "        plt.subplot(2,3,i+1)\n",
    "        plt.tight_layout()\n",
    "        plt.imshow(data[i][0], cmap='gray', interpolation='none')\n",
    "        plt.title(text + \": {}\".format(label[i]))\n",
    "        plt.xticks([])\n",
    "        plt.yticks([])\n",
    "    plt.show()"
   ]
  },
  {
   "cell_type": "code",
   "execution_count": 6,
   "metadata": {},
   "outputs": [],
   "source": [
    "def predict_batch(model, device, test_loader):\n",
    "    examples = enumerate(test_loader)\n",
    "    model.eval()\n",
    "    with torch.no_grad():\n",
    "        batch_idx, (data, target) = next(examples)\n",
    "        data, target = data.to(device), target.to(device)\n",
    "        output = model(data)\n",
    "        pred = output.cpu().data.max(1, keepdim=True)[1] # get the index of the max log-probability\n",
    "        pred = pred.numpy()\n",
    "    return data.cpu().data.numpy(), target.cpu().data.numpy(), pred"
   ]
  },
  {
   "cell_type": "code",
   "execution_count": 7,
   "metadata": {},
   "outputs": [],
   "source": [
    "def plot_graph(train_x, train_y, test_x, test_y, ylabel=''):\n",
    "    fig = plt.figure()\n",
    "    plt.plot(train_x, train_y, color='blue')\n",
    "    plt.plot(test_x, test_y, color='red')\n",
    "    plt.legend(['Train', 'Test'], loc='upper right')\n",
    "    plt.xlabel('number of training examples seen')\n",
    "    plt.ylabel(ylabel)\n",
    "    plt.grid()\n",
    "    plt.show()"
   ]
  },
  {
   "cell_type": "code",
   "execution_count": 8,
   "metadata": {},
   "outputs": [],
   "source": [
    "def train(model, device, train_loader, optimizer, epoch, losses=[], counter=[], errors=[]):\n",
    "    model.train()\n",
    "    correct=0\n",
    "    for batch_idx, (data, target) in enumerate(train_loader):\n",
    "        data, target = data.to(device), target.to(device)\n",
    "        optimizer.zero_grad()\n",
    "        output = model(data)\n",
    "        loss = F.nll_loss(output, target)\n",
    "        loss.backward()\n",
    "        optimizer.step()\n",
    "        if batch_idx % log_interval == 0:\n",
    "            print('Train Epoch: {} [{}/{} ({:.0f}%)]\\tLoss: {:.6f}'.format(\n",
    "                epoch, batch_idx * len(data), len(train_loader.dataset),\n",
    "                100. * batch_idx / len(train_loader), loss.item()))\n",
    "            losses.append(loss.item())\n",
    "            counter.append((batch_idx*batch_size) + ((epoch-1)*len(train_loader.dataset)))\n",
    "        pred = output.max(1, keepdim=True)[1]\n",
    "        correct += pred.eq(target.view_as(pred)).sum().item()\n",
    "    errors.append(100. * (1 - correct / len(train_loader.dataset)))"
   ]
  },
  {
   "cell_type": "code",
   "execution_count": 9,
   "metadata": {},
   "outputs": [],
   "source": [
    "def test(model, device, test_loader, losses=[], errors=[]):\n",
    "    model.eval()\n",
    "    test_loss = 0\n",
    "    correct = 0\n",
    "    with torch.no_grad():\n",
    "        for data, target in test_loader:\n",
    "            data, target = data.to(device), target.to(device)\n",
    "            output = model(data)\n",
    "            test_loss += F.nll_loss(output, target, reduction='sum').item() # sum up batch loss\n",
    "            pred = output.max(1, keepdim=True)[1] # get the index of the max log-probability\n",
    "            correct += pred.eq(target.view_as(pred)).sum().item()\n",
    "\n",
    "    test_loss /= len(test_loader.dataset)\n",
    "    print('\\nTest set: Average loss: {:.4f}, Accuracy: {}/{} ({:.0f}%)\\n'.format(\n",
    "        test_loss, correct, len(test_loader.dataset),\n",
    "        100. * correct / len(test_loader.dataset)))\n",
    "    losses.append(test_loss)\n",
    "    errors.append(100. *  (1 - correct / len(test_loader.dataset)))"
   ]
  },
  {
   "cell_type": "code",
   "execution_count": 10,
   "metadata": {},
   "outputs": [],
   "source": [
    "use_cuda = torch.cuda.is_available()\n",
    "device = torch.device(\"cuda\" if use_cuda else \"cpu\")\n",
    "\n",
    "# data transformation\n",
    "train_data = datasets.FashionMNIST('fashion_data', train=True, download=True,\n",
    "                                   transform=transforms.Compose([\n",
    "                                       transforms.ToTensor()\n",
    "                                   ]))\n",
    "test_data = datasets.FashionMNIST('fashion_data', train=False, \n",
    "                                  transform=transforms.Compose([\n",
    "                                      transforms.ToTensor()\n",
    "                                  ]))"
   ]
  },
  {
   "cell_type": "markdown",
   "metadata": {},
   "source": [
    "# Calculate the mean and standard deviation by my function"
   ]
  },
  {
   "cell_type": "code",
   "execution_count": 11,
   "metadata": {},
   "outputs": [],
   "source": [
    "(mean,std) = get_mean_std(train_data, 1)"
   ]
  },
  {
   "cell_type": "code",
   "execution_count": 12,
   "metadata": {},
   "outputs": [
    {
     "name": "stdout",
     "output_type": "stream",
     "text": [
      "Mean = 0.28604043 \n",
      "Standard = 0.35302427\n"
     ]
    }
   ],
   "source": [
    "print('Mean =', mean[0], '\\nStandard =', std[0])"
   ]
  },
  {
   "cell_type": "markdown",
   "metadata": {},
   "source": [
    "# Operation with CNN3"
   ]
  },
  {
   "cell_type": "code",
   "execution_count": 13,
   "metadata": {},
   "outputs": [],
   "source": [
    "def main():\n",
    "    use_cuda = torch.cuda.is_available()\n",
    "    device = torch.device(\"cuda\" if use_cuda else \"cpu\")\n",
    "\n",
    "    # data transformation\n",
    "    train_data = datasets.FashionMNIST('fashion_data', train=True, download=True,\n",
    "                   transform=transforms.Compose([\n",
    "                       transforms.ToTensor(),\n",
    "                       transforms.Normalize((mean[0],), (std[0],))\n",
    "                   ]))\n",
    "    test_data = datasets.FashionMNIST('fashion_data', train=False, \n",
    "                   transform=transforms.Compose([\n",
    "                       transforms.ToTensor(),\n",
    "                       transforms.Normalize((mean[0],), (std[0],))\n",
    "                   ]))\n",
    "\n",
    "    # data loaders\n",
    "    kwargs = {'num_workers': 1, 'pin_memory': True} if use_cuda else {}\n",
    "    train_loader = torch.utils.data.DataLoader(train_data, batch_size=batch_size, shuffle=True, **kwargs)\n",
    "    test_loader = torch.utils.data.DataLoader(test_data, batch_size=batch_size, shuffle=False, **kwargs)\n",
    "\n",
    "    # model creation\n",
    "    model = CNN3().to(device)\n",
    "    \n",
    "    # OPTIMIZER CREATION\n",
    "    optimizer = optim.SGD(model.parameters(), lr=0.01, momentum=momentum, weight_decay=1e-8)\n",
    "\n",
    "    # lists for saving history\n",
    "    train_losses = []\n",
    "    train_counter = []\n",
    "    test_losses = []\n",
    "    test_counter = [i*len(train_loader.dataset) for i in range(epochs + 1)]\n",
    "    train_errors = []\n",
    "    test_errors = []\n",
    "    error_counter = [i*len(train_loader.dataset) for i in range(epochs)]\n",
    "\n",
    "    # test of randomly initialized model\n",
    "    test(model, device, test_loader, losses=test_losses)\n",
    "\n",
    "    # global training and testing loop\n",
    "    for epoch in range(1, epochs + 1):\n",
    "        train(model, device, train_loader, optimizer, epoch, losses=train_losses, counter=train_counter, errors=train_errors)\n",
    "        test(model, device, test_loader, losses=test_losses, errors=test_errors)\n",
    "\n",
    "    # plotting training history\n",
    "    plot_graph(train_counter, train_losses, test_counter, test_losses, ylabel='negative log likelihood loss')\n",
    "    plot_graph(error_counter, train_errors, error_counter, test_errors, ylabel='error (%)')\n",
    "\n",
    "    # extract and plot random samples of data with predicted labels\n",
    "    data, _, pred = predict_batch(model, device, test_loader)\n",
    "    plot_data(data, pred, 'Predicted')"
   ]
  },
  {
   "cell_type": "code",
   "execution_count": 14,
   "metadata": {},
   "outputs": [
    {
     "name": "stdout",
     "output_type": "stream",
     "text": [
      "\n",
      "Test set: Average loss: 2.9488, Accuracy: 808/10000 (8%)\n",
      "\n",
      "Train Epoch: 1 [0/60000 (0%)]\tLoss: 2.657355\n",
      "Train Epoch: 1 [1280/60000 (2%)]\tLoss: 0.745741\n",
      "Train Epoch: 1 [2560/60000 (4%)]\tLoss: 0.507115\n",
      "Train Epoch: 1 [3840/60000 (6%)]\tLoss: 0.573557\n",
      "Train Epoch: 1 [5120/60000 (9%)]\tLoss: 0.658078\n",
      "Train Epoch: 1 [6400/60000 (11%)]\tLoss: 0.549631\n",
      "Train Epoch: 1 [7680/60000 (13%)]\tLoss: 0.322766\n",
      "Train Epoch: 1 [8960/60000 (15%)]\tLoss: 0.559186\n",
      "Train Epoch: 1 [10240/60000 (17%)]\tLoss: 0.321376\n",
      "Train Epoch: 1 [11520/60000 (19%)]\tLoss: 0.349614\n",
      "Train Epoch: 1 [12800/60000 (21%)]\tLoss: 0.579171\n",
      "Train Epoch: 1 [14080/60000 (23%)]\tLoss: 0.421024\n",
      "Train Epoch: 1 [15360/60000 (26%)]\tLoss: 0.436739\n",
      "Train Epoch: 1 [16640/60000 (28%)]\tLoss: 0.364771\n",
      "Train Epoch: 1 [17920/60000 (30%)]\tLoss: 0.338900\n",
      "Train Epoch: 1 [19200/60000 (32%)]\tLoss: 0.200291\n",
      "Train Epoch: 1 [20480/60000 (34%)]\tLoss: 0.552188\n",
      "Train Epoch: 1 [21760/60000 (36%)]\tLoss: 0.460377\n",
      "Train Epoch: 1 [23040/60000 (38%)]\tLoss: 0.693336\n",
      "Train Epoch: 1 [24320/60000 (41%)]\tLoss: 0.446922\n",
      "Train Epoch: 1 [25600/60000 (43%)]\tLoss: 0.268687\n",
      "Train Epoch: 1 [26880/60000 (45%)]\tLoss: 0.362424\n",
      "Train Epoch: 1 [28160/60000 (47%)]\tLoss: 0.564132\n",
      "Train Epoch: 1 [29440/60000 (49%)]\tLoss: 0.288189\n",
      "Train Epoch: 1 [30720/60000 (51%)]\tLoss: 0.440247\n",
      "Train Epoch: 1 [32000/60000 (53%)]\tLoss: 0.329172\n",
      "Train Epoch: 1 [33280/60000 (55%)]\tLoss: 0.492057\n",
      "Train Epoch: 1 [34560/60000 (58%)]\tLoss: 0.383728\n",
      "Train Epoch: 1 [35840/60000 (60%)]\tLoss: 0.338871\n",
      "Train Epoch: 1 [37120/60000 (62%)]\tLoss: 0.320260\n",
      "Train Epoch: 1 [38400/60000 (64%)]\tLoss: 0.492284\n",
      "Train Epoch: 1 [39680/60000 (66%)]\tLoss: 0.392937\n",
      "Train Epoch: 1 [40960/60000 (68%)]\tLoss: 0.343336\n",
      "Train Epoch: 1 [42240/60000 (70%)]\tLoss: 0.500213\n",
      "Train Epoch: 1 [43520/60000 (72%)]\tLoss: 0.347944\n",
      "Train Epoch: 1 [44800/60000 (75%)]\tLoss: 0.407981\n",
      "Train Epoch: 1 [46080/60000 (77%)]\tLoss: 0.355133\n",
      "Train Epoch: 1 [47360/60000 (79%)]\tLoss: 0.318364\n",
      "Train Epoch: 1 [48640/60000 (81%)]\tLoss: 0.225240\n",
      "Train Epoch: 1 [49920/60000 (83%)]\tLoss: 0.225376\n",
      "Train Epoch: 1 [51200/60000 (85%)]\tLoss: 0.353070\n",
      "Train Epoch: 1 [52480/60000 (87%)]\tLoss: 0.314439\n",
      "Train Epoch: 1 [53760/60000 (90%)]\tLoss: 0.238987\n",
      "Train Epoch: 1 [55040/60000 (92%)]\tLoss: 0.253219\n",
      "Train Epoch: 1 [56320/60000 (94%)]\tLoss: 0.344336\n",
      "Train Epoch: 1 [57600/60000 (96%)]\tLoss: 0.298820\n",
      "Train Epoch: 1 [58880/60000 (98%)]\tLoss: 0.553712\n",
      "\n",
      "Test set: Average loss: 0.3200, Accuracy: 8823/10000 (88%)\n",
      "\n"
     ]
    },
    {
     "data": {
      "image/png": "[encoded data removed]",
      "text/plain": [
       "<Figure size 432x288 with 1 Axes>"
      ]
     },
     "metadata": {
      "needs_background": "light"
     },
     "output_type": "display_data"
    },
    {
     "data": {
      "image/png": "[encoded data removed]",
      "text/plain": [
       "<Figure size 432x288 with 1 Axes>"
      ]
     },
     "metadata": {
      "needs_background": "light"
     },
     "output_type": "display_data"
    },
    {
     "data": {
      "image/png": "[encoded data removed]",
      "text/plain": [
       "<Figure size 432x288 with 6 Axes>"
      ]
     },
     "metadata": {},
     "output_type": "display_data"
    }
   ],
   "source": [
    "if __name__ == '__main__':\n",
    "    main()"
   ]
  },
  {
   "cell_type": "code",
   "execution_count": null,
   "metadata": {},
   "outputs": [],
   "source": []
  }
 ],
 "metadata": {
  "kernelspec": {
   "display_name": "Python 3",
   "language": "python",
   "name": "python3"
  },
  "language_info": {
   "codemirror_mode": {
    "name": "ipython",
    "version": 3
   },
   "file_extension": ".py",
   "mimetype": "text/x-python",
   "name": "python",
   "nbconvert_exporter": "python",
   "pygments_lexer": "ipython3",
   "version": "3.7.4"
  }
 },
 "nbformat": 4,
 "nbformat_minor": 2
}
