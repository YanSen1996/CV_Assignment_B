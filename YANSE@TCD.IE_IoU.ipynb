{
 "cells": [
  {
   "cell_type": "code",
   "execution_count": 1,
   "metadata": {},
   "outputs": [],
   "source": [
    "from PIL import Image\n",
    "import matplotlib.pyplot as plt\n",
    "import torch\n",
    "import PIL\n",
    "from torchvision import models\n",
    "import numpy as np\n",
    "import torchvision.transforms as T\n",
    "import cv2"
   ]
  },
  {
   "cell_type": "code",
   "execution_count": 2,
   "metadata": {},
   "outputs": [],
   "source": [
    "def binary(rgb):\n",
    "    for i in range(rgb.shape[0]):\n",
    "        for j in range(rgb.shape[1]):\n",
    "            if (rgb[i,j,:].max()>0):\n",
    "                rgb[i,j,:]=[255,255,255]\n",
    "            else: \n",
    "                rgb[i,j,:]=[0,0,0,]\n",
    "    bimg = rgb[:,:,0]          \n",
    "    return bimg"
   ]
  },
  {
   "cell_type": "code",
   "execution_count": 3,
   "metadata": {},
   "outputs": [],
   "source": [
    "def decode(img,matrix):\n",
    "    out = np.zeros(img.shape)\n",
    "    zero = np.array([0,0,0]).astype('uint8')\n",
    "    for i in range(img.shape[0]):\n",
    "        for j in range(img.shape[1]):\n",
    "            if ((img[i,j,:][0]==matrix[0]) and (img[i,j,:][1]==matrix[1]) and (img[i,j,:][2]==matrix[2])):\n",
    "                out[i,j,:]=img[i,j,:]\n",
    "            else: \n",
    "                out[i,j,:]=zero\n",
    "    return out"
   ]
  },
  {
   "cell_type": "code",
   "execution_count": 4,
   "metadata": {},
   "outputs": [],
   "source": [
    "def union(img1, img2):\n",
    "    img = img1 + img2\n",
    "    out = np.zeros(img.shape)\n",
    "    for i in range(img.shape[0]):\n",
    "        for j in range(img.shape[1]):\n",
    "            if (img[i,j] > 0):\n",
    "                out[i,j] = 1\n",
    "            else:\n",
    "                out[i,j] =0\n",
    "    return out"
   ]
  },
  {
   "cell_type": "code",
   "execution_count": 5,
   "metadata": {},
   "outputs": [],
   "source": [
    "def inter(img1, img2):\n",
    "    out = np.array(img1 * img2)\n",
    "    return out"
   ]
  },
  {
   "cell_type": "code",
   "execution_count": 6,
   "metadata": {},
   "outputs": [],
   "source": [
    "rgb = np.load('rgb.npy')\n",
    "mask = plt.imread('YANSE@TCD.IE_mask.png')"
   ]
  },
  {
   "cell_type": "code",
   "execution_count": 7,
   "metadata": {},
   "outputs": [],
   "source": [
    "mask = np.array(mask*255).astype('uint8')"
   ]
  },
  {
   "cell_type": "code",
   "execution_count": 8,
   "metadata": {},
   "outputs": [
    {
     "name": "stdout",
     "output_type": "stream",
     "text": [
      "The original images\n"
     ]
    },
    {
     "data": {
      "image/png": "[encoded data removed]",
      "text/plain": [
       "<Figure size 1080x1080 with 2 Axes>"
      ]
     },
     "metadata": {
      "needs_background": "light"
     },
     "output_type": "display_data"
    }
   ],
   "source": [
    "fig = plt.figure(figsize = (15,15))\n",
    "plt.subplot(121)\n",
    "plt.imshow(rgb)\n",
    "plt.title('My Mask')\n",
    "plt.subplot(122)\n",
    "plt.imshow(mask)\n",
    "plt.title('Main Mask')\n",
    "print('The original images')"
   ]
  },
  {
   "cell_type": "code",
   "execution_count": 9,
   "metadata": {},
   "outputs": [],
   "source": [
    "# array means the color of the items in my class\n",
    "array = np.array([192,128,128]).astype('uint8')\n",
    "mask = decode(mask,array)"
   ]
  },
  {
   "cell_type": "code",
   "execution_count": 10,
   "metadata": {},
   "outputs": [],
   "source": [
    "rgb = binary(rgb)\n",
    "mask = binary(mask)"
   ]
  },
  {
   "cell_type": "code",
   "execution_count": 11,
   "metadata": {},
   "outputs": [],
   "source": [
    "rgb = np.array(rgb).astype('int')\n",
    "mask = np.array(mask).astype('int')"
   ]
  },
  {
   "cell_type": "code",
   "execution_count": 12,
   "metadata": {},
   "outputs": [
    {
     "name": "stdout",
     "output_type": "stream",
     "text": [
      "Masks after decoding and binary processing\n"
     ]
    },
    {
     "data": {
      "image/png": "[encoded data removed]",
      "text/plain": [
       "<Figure size 1080x1080 with 2 Axes>"
      ]
     },
     "metadata": {
      "needs_background": "light"
     },
     "output_type": "display_data"
    }
   ],
   "source": [
    "fig = plt.figure(figsize = (15,15))\n",
    "plt.subplot(121)\n",
    "plt.imshow(rgb, cmap = 'gray')\n",
    "plt.title('My Mask')\n",
    "plt.subplot(122)\n",
    "plt.imshow(mask, cmap = 'gray')\n",
    "plt.title('Main Mask')\n",
    "print('Masks after decoding and binary processing')"
   ]
  },
  {
   "cell_type": "code",
   "execution_count": 13,
   "metadata": {},
   "outputs": [],
   "source": [
    "rgb = (rgb/255).astype('int')\n",
    "mask = (mask/255).astype('int')"
   ]
  },
  {
   "cell_type": "code",
   "execution_count": 14,
   "metadata": {},
   "outputs": [],
   "source": [
    "diff = np.abs(rgb - mask)\n",
    "inte = 1-diff"
   ]
  },
  {
   "cell_type": "code",
   "execution_count": 15,
   "metadata": {},
   "outputs": [
    {
     "name": "stdout",
     "output_type": "stream",
     "text": [
      "The IoU of the whole image is  0.9913333333333333\n"
     ]
    }
   ],
   "source": [
    "true = np.sum(inte == 1)\n",
    "total = rgb.shape[0]*rgb.shape[1]\n",
    "IoU_all = true/total\n",
    "print('The IoU of the whole image is ', IoU_all)"
   ]
  },
  {
   "cell_type": "code",
   "execution_count": 16,
   "metadata": {},
   "outputs": [],
   "source": [
    "union_img = union(rgb, mask)\n",
    "inter_img = inter(rgb, mask)"
   ]
  },
  {
   "cell_type": "code",
   "execution_count": 17,
   "metadata": {},
   "outputs": [
    {
     "name": "stdout",
     "output_type": "stream",
     "text": [
      "Union & Inter for Main Mask and My Mask\n"
     ]
    },
    {
     "data": {
      "image/png": "[encoded data removed]",
      "text/plain": [
       "<Figure size 1080x1080 with 2 Axes>"
      ]
     },
     "metadata": {
      "needs_background": "light"
     },
     "output_type": "display_data"
    }
   ],
   "source": [
    "fig = plt.figure(figsize = (15,15))\n",
    "plt.subplot(121)\n",
    "plt.imshow(union_img, cmap='gray')\n",
    "plt.title('Union')\n",
    "plt.subplot(122)\n",
    "plt.imshow(inter_img, cmap = 'gray')\n",
    "plt.title('Inter')\n",
    "print('Union & Inter for Main Mask and My Mask')"
   ]
  },
  {
   "cell_type": "code",
   "execution_count": 18,
   "metadata": {},
   "outputs": [],
   "source": [
    "union_value = np.sum(union_img == 1)\n",
    "inter_value = np.sum(inter_img == 1)"
   ]
  },
  {
   "cell_type": "code",
   "execution_count": 19,
   "metadata": {},
   "outputs": [
    {
     "name": "stdout",
     "output_type": "stream",
     "text": [
      "The IoU of my class is 0.5852475752935171\n"
     ]
    }
   ],
   "source": [
    "IoU = inter_value/union_value\n",
    "print('The IoU of my class is', IoU)"
   ]
  }
 ],
 "metadata": {
  "kernelspec": {
   "display_name": "Python 3",
   "language": "python",
   "name": "python3"
  },
  "language_info": {
   "codemirror_mode": {
    "name": "ipython",
    "version": 3
   },
   "file_extension": ".py",
   "mimetype": "text/x-python",
   "name": "python",
   "nbconvert_exporter": "python",
   "pygments_lexer": "ipython3",
   "version": "3.7.4"
  }
 },
 "nbformat": 4,
 "nbformat_minor": 2
}
