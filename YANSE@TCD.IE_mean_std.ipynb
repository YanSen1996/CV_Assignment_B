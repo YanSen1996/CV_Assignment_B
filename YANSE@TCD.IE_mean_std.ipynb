{
 "cells": [
  {
   "cell_type": "code",
   "execution_count": 22,
   "metadata": {},
   "outputs": [],
   "source": [
    "from __future__ import print_function\n",
    "import torch\n",
    "import torch.nn as nn\n",
    "import torch.nn.functional as F\n",
    "import torch.optim as optim\n",
    "from torchvision import datasets, transforms\n",
    "import numpy as np\n",
    "import matplotlib.pyplot as plt"
   ]
  },
  {
   "cell_type": "code",
   "execution_count": 23,
   "metadata": {},
   "outputs": [],
   "source": [
    "# Use _data file and a number between 0 to 1 as the inputs, output would be mean value and standard value.\n",
    "\n",
    "def get_mean_std(dataset, ratio):\n",
    "    \n",
    "    dataloader = torch.utils.data.DataLoader(dataset, batch_size=int(len(dataset)*ratio), \n",
    "                                             shuffle=True, num_workers=10)\n",
    "    train = iter(dataloader).next()[0]\n",
    "    mean = np.mean(train.numpy(), axis=(0,2,3))\n",
    "    std = np.std(train.numpy(), axis=(0,2,3))\n",
    "    return mean, std"
   ]
  },
  {
   "cell_type": "code",
   "execution_count": 24,
   "metadata": {},
   "outputs": [],
   "source": [
    "# Training hyperparameters\n",
    "epochs = 1\n",
    "batch_size = 64\n",
    "learning_rate = 0.01 # DONE\n",
    "momentum = 0.9\n",
    "weight_decay = 1e-8 # DONE\n",
    "log_interval = 20"
   ]
  },
  {
   "cell_type": "code",
   "execution_count": 32,
   "metadata": {},
   "outputs": [],
   "source": [
    "use_cuda = torch.cuda.is_available()\n",
    "device = torch.device(\"cuda\" if use_cuda else \"cpu\")\n",
    "\n",
    "# data transformation\n",
    "train_data = datasets.FashionMNIST('fashion_data', train=True, download=True,\n",
    "                                   transform=transforms.Compose([\n",
    "                                       transforms.ToTensor(),\n",
    "                                       transforms.Normalize((0.1307,), (0.3081,))\n",
    "                                   ]))\n",
    "test_data = datasets.FashionMNIST('fashion_data', train=False, \n",
    "                                  transform=transforms.Compose([\n",
    "                                      transforms.ToTensor(),\n",
    "                                      transforms.Normalize((0.1307,), (0.3081,))\n",
    "                                  ]))"
   ]
  },
  {
   "cell_type": "code",
   "execution_count": 33,
   "metadata": {},
   "outputs": [],
   "source": [
    "(mean,std) = get_mean_std(train_data, 1)"
   ]
  }
 ],
 "metadata": {
  "kernelspec": {
   "display_name": "Python 3",
   "language": "python",
   "name": "python3"
  },
  "language_info": {
   "codemirror_mode": {
    "name": "ipython",
    "version": 3
   },
   "file_extension": ".py",
   "mimetype": "text/x-python",
   "name": "python",
   "nbconvert_exporter": "python",
   "pygments_lexer": "ipython3",
   "version": "3.7.4"
  }
 },
 "nbformat": 4,
 "nbformat_minor": 2
}
